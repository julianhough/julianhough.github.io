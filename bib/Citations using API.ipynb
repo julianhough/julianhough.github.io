{
 "cells": [
  {
   "cell_type": "code",
   "execution_count": 5,
   "metadata": {},
   "outputs": [],
   "source": [
    "import sys\n",
    "from collections import Counter\n",
    "# print sys.modules\n",
    "try:\n",
    "    del sys.modules['scholarly']\n",
    "except KeyError:\n",
    "    print \"module not found\""
   ]
  },
  {
   "cell_type": "code",
   "execution_count": 6,
   "metadata": {},
   "outputs": [],
   "source": [
    "sys.path.append(\"scholarly/\")\n",
    "import scholarly\n",
    "from collections import defaultdict\n",
    "from matplotlib import pyplot as plt"
   ]
  },
  {
   "cell_type": "code",
   "execution_count": 7,
   "metadata": {},
   "outputs": [],
   "source": [
    "author = scholarly.search_author(\"Julian Hough\")"
   ]
  },
  {
   "cell_type": "code",
   "execution_count": 8,
   "metadata": {
    "scrolled": true
   },
   "outputs": [
    {
     "name": "stdout",
     "output_type": "stream",
     "text": [
      "<div class=\"gsc_1usr\"><div class=\"gs_ai gs_scl gs_ai_chpr\"><a class=\"gs_ai_pho\" href=\"/citations?hl=en&amp;user=PYUqCywAAAAJ\"><span class=\"gs_rimg gs_pp_sm\"><img alt=\"Julian Hough\" height=\"56\" sizes=\"56px\" src=\"https://scholar.googleusercontent.com/citations?view_op=small_photo&amp;user=PYUqCywAAAAJ&amp;citpid=13\" srcset=\"https://scholar.googleusercontent.com/citations?view_op=small_photo&amp;user=PYUqCywAAAAJ&amp;citpid=13 56w,https://scholar.googleusercontent.com/citations?view_op=view_photo&amp;user=PYUqCywAAAAJ&amp;citpid=13 128w\" width=\"56\"/></span></a><div class=\"gs_ai_t\"><h3 class=\"gs_ai_name\"><a href=\"/citations?hl=en&amp;user=PYUqCywAAAAJ\"><span class=\"gs_hlt\">Julian Hough</span></a></h3><div class=\"gs_ai_aff\">Queen Mary University of London</div><div class=\"gs_ai_eml\">Verified email at qmul.ac.uk</div><div class=\"gs_ai_cby\">Cited by 1169</div><div class=\"gs_ai_int\"><a class=\"gs_ai_one_int\" href=\"/citations?hl=en&amp;view_op=search_authors&amp;mauthors=label:dialogue\">Dialogue</a> <a class=\"gs_ai_one_int\" href=\"/citations?hl=en&amp;view_op=search_authors&amp;mauthors=label:dialogue_systems\">Dialogue Systems</a> <a class=\"gs_ai_one_int\" href=\"/citations?hl=en&amp;view_op=search_authors&amp;mauthors=label:disfluency\">Disfluency</a> <a class=\"gs_ai_one_int\" href=\"/citations?hl=en&amp;view_op=search_authors&amp;mauthors=label:computational_linguistics\">Computational Linguistics</a> <a class=\"gs_ai_one_int\" href=\"/citations?hl=en&amp;view_op=search_authors&amp;mauthors=label:human_robot_interaction\">Human-Robot Interaction</a> </div></div></div></div>\n"
     ]
    },
    {
     "ename": "KeyError",
     "evalue": "u'data-href'",
     "output_type": "error",
     "traceback": [
      "\u001b[0;31m---------------------------------------------------------------------------\u001b[0m",
      "\u001b[0;31mKeyError\u001b[0m                                  Traceback (most recent call last)",
      "\u001b[0;32m<ipython-input-8-cbf922d95b1f>\u001b[0m in \u001b[0;36m<module>\u001b[0;34m()\u001b[0m\n\u001b[0;32m----> 1\u001b[0;31m \u001b[0mauthor\u001b[0m \u001b[0;34m=\u001b[0m \u001b[0mnext\u001b[0m\u001b[0;34m(\u001b[0m\u001b[0mauthor\u001b[0m\u001b[0;34m)\u001b[0m\u001b[0;34m.\u001b[0m\u001b[0mfill\u001b[0m\u001b[0;34m(\u001b[0m\u001b[0;34m)\u001b[0m\u001b[0;34m\u001b[0m\u001b[0m\n\u001b[0m",
      "\u001b[0;32m/Users/julian/Dropbox/webpage/public_html/bib/scholarly/scholarly/scholarly.pyc\u001b[0m in \u001b[0;36mfill\u001b[0;34m(self)\u001b[0m\n\u001b[1;32m    278\u001b[0m         \u001b[0;32mwhile\u001b[0m \u001b[0mTrue\u001b[0m\u001b[0;34m:\u001b[0m\u001b[0;34m\u001b[0m\u001b[0m\n\u001b[1;32m    279\u001b[0m             \u001b[0;32mfor\u001b[0m \u001b[0mrow\u001b[0m \u001b[0;32min\u001b[0m \u001b[0msoup\u001b[0m\u001b[0;34m.\u001b[0m\u001b[0mfind_all\u001b[0m\u001b[0;34m(\u001b[0m\u001b[0;34m'tr'\u001b[0m\u001b[0;34m,\u001b[0m \u001b[0mclass_\u001b[0m\u001b[0;34m=\u001b[0m\u001b[0;34m'gsc_a_tr'\u001b[0m\u001b[0;34m)\u001b[0m\u001b[0;34m:\u001b[0m\u001b[0;34m\u001b[0m\u001b[0m\n\u001b[0;32m--> 280\u001b[0;31m                 \u001b[0mnew_pub\u001b[0m \u001b[0;34m=\u001b[0m \u001b[0mPublication\u001b[0m\u001b[0;34m(\u001b[0m\u001b[0mrow\u001b[0m\u001b[0;34m,\u001b[0m \u001b[0;34m'citations'\u001b[0m\u001b[0;34m)\u001b[0m\u001b[0;34m\u001b[0m\u001b[0m\n\u001b[0m\u001b[1;32m    281\u001b[0m                 \u001b[0mself\u001b[0m\u001b[0;34m.\u001b[0m\u001b[0mpublications\u001b[0m\u001b[0;34m.\u001b[0m\u001b[0mappend\u001b[0m\u001b[0;34m(\u001b[0m\u001b[0mnew_pub\u001b[0m\u001b[0;34m)\u001b[0m\u001b[0;34m\u001b[0m\u001b[0m\n\u001b[1;32m    282\u001b[0m             \u001b[0;32mif\u001b[0m \u001b[0;34m'disabled'\u001b[0m \u001b[0;32mnot\u001b[0m \u001b[0;32min\u001b[0m \u001b[0msoup\u001b[0m\u001b[0;34m.\u001b[0m\u001b[0mfind\u001b[0m\u001b[0;34m(\u001b[0m\u001b[0;34m'button'\u001b[0m\u001b[0;34m,\u001b[0m \u001b[0mid\u001b[0m\u001b[0;34m=\u001b[0m\u001b[0;34m'gsc_bpf_more'\u001b[0m\u001b[0;34m)\u001b[0m\u001b[0;34m.\u001b[0m\u001b[0mattrs\u001b[0m\u001b[0;34m:\u001b[0m\u001b[0;34m\u001b[0m\u001b[0m\n",
      "\u001b[0;32m/Users/julian/Dropbox/webpage/public_html/bib/scholarly/scholarly/scholarly.pyc\u001b[0m in \u001b[0;36m__init__\u001b[0;34m(self, _Publication__data, pubtype)\u001b[0m\n\u001b[1;32m    126\u001b[0m         \u001b[0;32mif\u001b[0m \u001b[0mself\u001b[0m\u001b[0;34m.\u001b[0m\u001b[0msource\u001b[0m \u001b[0;34m==\u001b[0m \u001b[0;34m'citations'\u001b[0m\u001b[0;34m:\u001b[0m\u001b[0;34m\u001b[0m\u001b[0m\n\u001b[1;32m    127\u001b[0m             \u001b[0mself\u001b[0m\u001b[0;34m.\u001b[0m\u001b[0mbib\u001b[0m\u001b[0;34m[\u001b[0m\u001b[0;34m'title'\u001b[0m\u001b[0;34m]\u001b[0m \u001b[0;34m=\u001b[0m \u001b[0m__data\u001b[0m\u001b[0;34m.\u001b[0m\u001b[0mfind\u001b[0m\u001b[0;34m(\u001b[0m\u001b[0;34m'a'\u001b[0m\u001b[0;34m,\u001b[0m \u001b[0mclass_\u001b[0m\u001b[0;34m=\u001b[0m\u001b[0;34m'gsc_a_at'\u001b[0m\u001b[0;34m)\u001b[0m\u001b[0;34m.\u001b[0m\u001b[0mtext\u001b[0m\u001b[0;34m\u001b[0m\u001b[0m\n\u001b[0;32m--> 128\u001b[0;31m             \u001b[0mself\u001b[0m\u001b[0;34m.\u001b[0m\u001b[0mid_citations\u001b[0m \u001b[0;34m=\u001b[0m \u001b[0mre\u001b[0m\u001b[0;34m.\u001b[0m\u001b[0mfindall\u001b[0m\u001b[0;34m(\u001b[0m\u001b[0m_CITATIONPUBRE\u001b[0m\u001b[0;34m,\u001b[0m \u001b[0m__data\u001b[0m\u001b[0;34m.\u001b[0m\u001b[0mfind\u001b[0m\u001b[0;34m(\u001b[0m\u001b[0;34m'a'\u001b[0m\u001b[0;34m,\u001b[0m \u001b[0mclass_\u001b[0m\u001b[0;34m=\u001b[0m\u001b[0;34m'gsc_a_at'\u001b[0m\u001b[0;34m)\u001b[0m\u001b[0;34m[\u001b[0m\u001b[0;34m'data-href'\u001b[0m\u001b[0;34m]\u001b[0m\u001b[0;34m)\u001b[0m\u001b[0;34m[\u001b[0m\u001b[0;36m0\u001b[0m\u001b[0;34m]\u001b[0m\u001b[0;34m\u001b[0m\u001b[0m\n\u001b[0m\u001b[1;32m    129\u001b[0m             \u001b[0mcitedby\u001b[0m \u001b[0;34m=\u001b[0m \u001b[0m__data\u001b[0m\u001b[0;34m.\u001b[0m\u001b[0mfind\u001b[0m\u001b[0;34m(\u001b[0m\u001b[0mclass_\u001b[0m\u001b[0;34m=\u001b[0m\u001b[0;34m'gsc_a_ac'\u001b[0m\u001b[0;34m)\u001b[0m\u001b[0;34m\u001b[0m\u001b[0m\n\u001b[1;32m    130\u001b[0m             \u001b[0;32mif\u001b[0m \u001b[0mcitedby\u001b[0m \u001b[0;32mand\u001b[0m \u001b[0;32mnot\u001b[0m \u001b[0;34m(\u001b[0m\u001b[0mcitedby\u001b[0m\u001b[0;34m.\u001b[0m\u001b[0mtext\u001b[0m\u001b[0;34m.\u001b[0m\u001b[0misspace\u001b[0m\u001b[0;34m(\u001b[0m\u001b[0;34m)\u001b[0m \u001b[0;32mor\u001b[0m \u001b[0mcitedby\u001b[0m\u001b[0;34m.\u001b[0m\u001b[0mtext\u001b[0m \u001b[0;34m==\u001b[0m \u001b[0;34m''\u001b[0m\u001b[0;34m)\u001b[0m\u001b[0;34m:\u001b[0m\u001b[0;34m\u001b[0m\u001b[0m\n",
      "\u001b[0;32m/anaconda2/lib/python2.7/site-packages/bs4/element.pyc\u001b[0m in \u001b[0;36m__getitem__\u001b[0;34m(self, key)\u001b[0m\n\u001b[1;32m   1014\u001b[0m         \"\"\"tag[key] returns the value of the 'key' attribute for the tag,\n\u001b[1;32m   1015\u001b[0m         and throws an exception if it's not there.\"\"\"\n\u001b[0;32m-> 1016\u001b[0;31m         \u001b[0;32mreturn\u001b[0m \u001b[0mself\u001b[0m\u001b[0;34m.\u001b[0m\u001b[0mattrs\u001b[0m\u001b[0;34m[\u001b[0m\u001b[0mkey\u001b[0m\u001b[0;34m]\u001b[0m\u001b[0;34m\u001b[0m\u001b[0m\n\u001b[0m\u001b[1;32m   1017\u001b[0m \u001b[0;34m\u001b[0m\u001b[0m\n\u001b[1;32m   1018\u001b[0m     \u001b[0;32mdef\u001b[0m \u001b[0m__iter__\u001b[0m\u001b[0;34m(\u001b[0m\u001b[0mself\u001b[0m\u001b[0;34m)\u001b[0m\u001b[0;34m:\u001b[0m\u001b[0;34m\u001b[0m\u001b[0m\n",
      "\u001b[0;31mKeyError\u001b[0m: u'data-href'"
     ]
    }
   ],
   "source": [
    "author = next(author).fill()"
   ]
  },
  {
   "cell_type": "code",
   "execution_count": null,
   "metadata": {},
   "outputs": [],
   "source": [
    "# 2013 BBS abstract cited articles 33 too many\n",
    "# 2016 BBS abstract cited artciles 29 too many\n",
    "# 2017 BBS asbtract cited articles 32 too many\n",
    "\n",
    "BBS_2013_PEN = {\"BBS_2013_PEN\" : 33}\n",
    "BBS_2016_PEN = {\"BBS_2016_PEN\" : 29}\n",
    "BBS_2017_PEN = {\"BBS_2017_PEN\" : 32}\n",
    "IS_2015_PEN = {\"IS_2015_BONUS\" : 0}"
   ]
  },
  {
   "cell_type": "code",
   "execution_count": null,
   "metadata": {},
   "outputs": [],
   "source": [
    "def h_score(citations):\n",
    "    h = 0\n",
    "    for i, s in enumerate(sorted(citations, reverse=True)):\n",
    "        if s < (i + 1):\n",
    "            break\n",
    "        h = i +1\n",
    "            \n",
    "    return h\n",
    "\n",
    "def i_score(citations):\n",
    "    return len(filter( lambda x: x>=10, citations))"
   ]
  },
  {
   "cell_type": "code",
   "execution_count": null,
   "metadata": {},
   "outputs": [],
   "source": [
    "# for pub in author.publications:\n",
    "#    print type(pub), hasattr(pub, 'citedby')"
   ]
  },
  {
   "cell_type": "code",
   "execution_count": null,
   "metadata": {
    "scrolled": true
   },
   "outputs": [],
   "source": [
    "penalties = {\n",
    "    'Incremental semantic construction in a dialogue system' : [BBS_2013_PEN, BBS_2016_PEN, BBS_2017_PEN],\n",
    "   \n",
    "    'Feedback in conversation as incremental semantic update' : [BBS_2016_PEN, BBS_2017_PEN],\n",
    "    'Incremental grammar induction from child-directed dialogue utterances' : [BBS_2016_PEN, BBS_2017_PEN],\n",
    "\n",
    "    'Incremental semantics driven natural language generation with self-repairing capability' : [BBS_2013_PEN],\n",
    "    \n",
    "    'Modelling Incremental Self-Repair Processing in Dialogue.' : [BBS_2017_PEN],\n",
    "    'Probabilistic record type lattices for incremental reference processing' : [BBS_2017_PEN],\n",
    "    \n",
    "    'Processing self-repairs in an incremental type-theoretic dialogue system' :  [BBS_2016_PEN],\n",
    "    'Modelling expectation in the self-repair processing of annotat-, um, listeners' : [BBS_2016_PEN],\n",
    "\n",
    "    \n",
    "    'Recurrent neural networks for incremental disfluency detection' : [IS_2015_PEN],#-2\n",
    "    \n",
    "    'On making syntax dynamic' : [BBS_2016_PEN, BBS_2017_PEN],\n",
    "    'Finishing each other’s... Responding to incomplete contributions in dialogue' : [BBS_2013_PEN],\n",
    "    'Divergence in dialogue' : [BBS_2017_PEN, BBS_2016_PEN],\n",
    "    'Divergence in Dialogue' : [BBS_2017_PEN, BBS_2016_PEN],\n",
    "    'The dynamics of lexical interfaces' : [BBS_2013_PEN],\n",
    "    'Structural divergence in dialogue' : [BBS_2013_PEN],\n",
    "     'Helping the medicine go down: Repair and adherence in patient-clinician dialogues' : [BBS_2016_PEN],\n",
    "    'Language, music and interaction' : [BBS_2016_PEN],\n",
    "    'Making a Contribution: Processing clarification requests in dialogue.': [BBS_2016_PEN],\n",
    "    \"Incrementality and intention-recognition in utterance processing\" : [BBS_2013_PEN, \n",
    "                                                                               BBS_2016_PEN,\n",
    "                                                                               BBS_2017_PEN],\n",
    "    \"\"\"Splitting the ‘I’s and crossing the ‘You’s: Context, speech acts and grammar\"\"\" : [BBS_2017_PEN, BBS_2016_PEN],\n",
    "    \"Language as mechanisms for interaction\" : [BBS_2017_PEN],\n",
    "    \"Joint utterances and the (split-) turn taking puzzle\" : [BBS_2017_PEN],\n",
    "    \"Grammar as action in language and music\" : [BBS_2017_PEN],\n",
    "    \"Quotation in Dialogue\" : [BBS_2017_PEN],\n",
    "    \"The role of intentions in dialogue processing\" : [BBS_2017_PEN],\n",
    "    \"Procedural syntax\" : [BBS_2017_PEN],\n",
    "    \"Action-based grammar\" : [BBS_2017_PEN],\n",
    "    \"Grammars as parsers: Meeting the dialogue challenge\" : [BBS_2013_PEN, BBS_2016_PEN],\n",
    "    \"On incrementality in dialogue: Evidence from compound contributions\" : [BBS_2013_PEN],\n",
    "    \"Context and well-formedness: the dynamics of ellipsis\" : [BBS_2016_PEN],\n",
    "    \"Finishing each other’s... Responding to incomplete contributions in dialogue\": [BBS_2013_PEN],\n",
    "    \"Making a contribution: Processing clarification requests in dialogue\" : [BBS_2016_PEN]\n",
    "}\n",
    "\n",
    "CURRENT_YEAR = 2021\n",
    "\n",
    "penalty_type_counts = Counter()\n",
    "papers = []\n",
    "years_new = defaultdict(list)\n",
    "citations = []\n",
    "missing_from_years = []\n",
    "for pub in author.publications:\n",
    "    missing = False\n",
    "    if not pub.bib.get('year'):\n",
    "        missing = True\n",
    "    else:\n",
    "        year = pub.bib['year']\n",
    "    cites = 0 if not hasattr(pub, 'citedby') else pub.citedby\n",
    "    if True:\n",
    "        if pub.bib['title'].encode('utf-8') in penalties.keys():\n",
    "            pen = sum([x.values()[0] for x in penalties[pub.bib['title'].encode('utf-8')]])\n",
    "            for x in penalties[pub.bib['title'].encode('utf-8')]:\n",
    "                penalty_type_counts[x.keys()[0]] += 1\n",
    "            if cites - pen > 0:\n",
    "                cites = cites - pen\n",
    "    #if year <2014:\n",
    "    #    continue\n",
    "    if missing:\n",
    "        year = CURRENT_YEAR\n",
    "        missing_from_years.append(cites)\n",
    "    papers.append(cites)\n",
    "    years_new[year].append(cites)\n",
    "    # print pub.bib['title'], cites\n",
    "    age = (CURRENT_YEAR - year)\n",
    "    if age <= 0:\n",
    "        age = 0.5   # give half a year for new pubs, so not 0\n",
    "    cite_rate = float(cites)/float(age)\n",
    "    if \"Recognising conversational speech: What an incremental asr\" in pub.bib['title']:\n",
    "        year = year -1\n",
    "        age = age + 1\n",
    "        cite_rate = float(cites)/float(age)\n",
    "        print \"after\", year, age, cite_rate\n",
    "    citations.append((pub.bib['title'], cites, cite_rate, year))\n",
    "print penalty_type_counts\n",
    "print \"missing from years\", sum(missing_from_years)\n",
    "print sum(papers),  \"citations from\", len(papers), \"papers\"\n",
    "print \"h\", h_score(papers)\n",
    "print \"i\", i_score(papers)"
   ]
  },
  {
   "cell_type": "code",
   "execution_count": null,
   "metadata": {},
   "outputs": [],
   "source": [
    "count = 0\n",
    "pub_data = []\n",
    "for title, num_cites, cite_rate, year in sorted(citations, key=lambda title:title[2], reverse=True):\n",
    "    #if year < 2014:\n",
    "    #    continue\n",
    "    if \"SemEval\" in title:\n",
    "        continue\n",
    "    if False:\n",
    "        if title == \"Modelling Incremental Self-Repair Processing in Dialogue.\":\n",
    "            continue  # skip thesis? for REF :(\n",
    "        if \"Duel:\" in title:\n",
    "            continue\n",
    "        if \"Pentoref:\" in title:\n",
    "            continue\n",
    "    count+=1\n",
    "    print count, title, year, \":\", num_cites, cite_rate\n",
    "    pub_data.append(cite_rate)\n",
    "plt.bar(range(1, len(pub_data)+1),pub_data)\n",
    "plt.show()\n",
    "print sum(pub_data)"
   ]
  },
  {
   "cell_type": "code",
   "execution_count": null,
   "metadata": {},
   "outputs": [],
   "source": [
    "graph = []\n",
    "years = []\n",
    "ticks = []\n",
    "\n",
    "for year, cites in sorted(author.cites_per_year.items()):\n",
    "    if True:\n",
    "        #if year == 2004:\n",
    "        #    cites = cites - 110\n",
    "        if year == 2013:\n",
    "            cites = cites - ((penalty_type_counts[\"BBS_2013_PEN\"]) * BBS_2013_PEN.values()[0])\n",
    "        elif year == 2016:\n",
    "            cites = cites - ((penalty_type_counts[\"BBS_2016_PEN\"]) * BBS_2016_PEN.values()[0])\n",
    "        elif year == 2017:\n",
    "            cites = cites - ((penalty_type_counts[\"BBS_2017_PEN\"]) * BBS_2017_PEN.values()[0]) #- 2)\n",
    "    print year, cites\n",
    "    graph.append(cites)\n",
    "    ticks.append(year)\n",
    "\n",
    "\n",
    "#graph[-1] = 150\n",
    "print graph\n",
    "\n",
    "plt.figure(figsize=(15, 5))\n",
    "plt.bar(ticks,graph)\n",
    "#plt.plot(graph)\n",
    "\n",
    "plt.xticks(ticks, ticks)\n",
    "plt.savefig(\"citations.png\")\n",
    "plt.show()\n",
    "print sum(graph)"
   ]
  },
  {
   "cell_type": "code",
   "execution_count": null,
   "metadata": {},
   "outputs": [],
   "source": [
    "# which year's papers get cited the most?\n",
    "graph = []\n",
    "ticks = []\n",
    "for year, papers in sorted(years_new.items(), key=lambda x:x[0]):\n",
    "    print year, sum(papers)\n",
    "    graph.append(sum(papers))\n",
    "    ticks.append(year)\n",
    "print graph\n",
    "\n",
    "plt.figure(figsize=(15, 5))\n",
    "plt.bar(ticks,graph)\n",
    "#plt.plot(graph)\n",
    "\n",
    "plt.xticks(ticks, ticks)\n",
    "plt.savefig(\"citations.png\")\n",
    "plt.show()"
   ]
  },
  {
   "cell_type": "code",
   "execution_count": null,
   "metadata": {},
   "outputs": [],
   "source": []
  },
  {
   "cell_type": "code",
   "execution_count": null,
   "metadata": {},
   "outputs": [],
   "source": []
  }
 ],
 "metadata": {
  "kernelspec": {
   "display_name": "Python 2",
   "language": "python",
   "name": "python2"
  },
  "language_info": {
   "codemirror_mode": {
    "name": "ipython",
    "version": 2
   },
   "file_extension": ".py",
   "mimetype": "text/x-python",
   "name": "python",
   "nbconvert_exporter": "python",
   "pygments_lexer": "ipython2",
   "version": "2.7.16"
  }
 },
 "nbformat": 4,
 "nbformat_minor": 1
}
