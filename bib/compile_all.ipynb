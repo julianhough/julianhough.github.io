{
 "cells": [
  {
   "cell_type": "code",
   "execution_count": 1,
   "metadata": {
    "collapsed": true
   },
   "outputs": [],
   "source": [
    "import os"
   ]
  },
  {
   "cell_type": "code",
   "execution_count": 2,
   "metadata": {
    "collapsed": false
   },
   "outputs": [],
   "source": [
    "files = filter(lambda x : \".bib\" in x and not \"all.\" in x, [x for x in os.listdir(\"../bib/\")])"
   ]
  },
  {
   "cell_type": "code",
   "execution_count": 3,
   "metadata": {
    "collapsed": false
   },
   "outputs": [
    {
     "name": "stdout",
     "output_type": "stream",
     "text": [
      "45 entries\n"
     ]
    }
   ],
   "source": [
    "print len(files), \"entries\""
   ]
  },
  {
   "cell_type": "code",
   "execution_count": 5,
   "metadata": {
    "collapsed": false
   },
   "outputs": [
    {
     "name": "stdout",
     "output_type": "stream",
     "text": [
      "MaierEtAl17InterSpeech.bib\n",
      "HoughPurver12SemDial.bib\n",
      "EshghiEtAl12RobinCooper.bib\n",
      "Hough11RANLP.bib\n",
      "HoughSchlangen17HRI.bib\n",
      "HoughEtAl17GLU.bib\n",
      "HowesEtAl13BBS.bib\n",
      "DeKokEtAl16ICMIWorkshop.bib\n",
      "HoughEtAl16LREC.bib\n",
      "GinzburgEtAl14SemDialDUEL.bib\n",
      "DeKokEtAl15SemDial.bib\n",
      "ZarriessEtAl16LREC.bib\n",
      "HoughSchlangen17EACL.bib\n",
      "EshghiEtAl13IWCS.bib\n",
      "DeKokEtAl14SemDial.bib\n",
      "HowesEtAl17CommCog.bib\n",
      "HoughSchlangen16SemDial.bib\n",
      "HoughPurver14EMNLP.bib\n",
      "HoughPurver14TTNLS.bib\n",
      "HoughSchlangen15InterSpeech.bib\n",
      "PurverEtAl14NLGIS.bib\n",
      "PurverEtAl11IWCS.bib\n",
      "HoughEtAl15IWCS.bib\n",
      "HoughEtAl15DISS.bib\n",
      "HoughSchlangen17HRIWorkshop.bib\n",
      "HealeyEtAl16BBS.bib\n",
      "DeKokEtAl15ICMI.bib\n",
      "HoughSchlangen16SigDial.bib\n",
      "HowesEtAl16Rapid.bib\n",
      "KousidisEtAl15Laughter.bib\n",
      "HoughEtAl15SemDial.bib\n",
      "EshghiEtAl12CSLP.bib\n",
      "Hough15PhDThesis.bib\n",
      "HowesEtAl14SemDial.bib\n",
      "HoughPurver14RefNet.bib\n",
      "EshghiEtAl13CMCL.bib\n",
      "EshghiEtAl15IWCS.bib\n",
      "BaumannEtAl16IWSDS.bib\n",
      "GinzburgEtAl15AC.bib\n",
      "EshghiEtAl11DYLAN.bib\n",
      "GinzburgEtAl16SuB.bib\n",
      "HoughPurver13SemDial.bib\n",
      "PurverEtAl17TopiCS.bib\n",
      "HoughPurver17TypeTheoryBookChapter.bib\n",
      "HowesEtAl17CogSci.bib\n"
     ]
    }
   ],
   "source": [
    "overall = open(\"all.bib\",\"w\")\n",
    "for x in files:\n",
    "    print x\n",
    "    in_abstract = False\n",
    "    for line in open(x):\n",
    "        if \" url\" in line or \" URL\" in line: continue\n",
    "        if \" abstract =\" in line:\n",
    "            in_abstract = True\n",
    "        elif \" = \" in line or line.replace(\" \", \"\") == \"}\":\n",
    "            in_abstract = False\n",
    "        if in_abstract:\n",
    "            continue\n",
    "        overall.write(line)\n",
    "    overall.write(\"\\n\\n\")\n",
    "overall.close()"
   ]
  },
  {
   "cell_type": "code",
   "execution_count": 13,
   "metadata": {
    "collapsed": false
   },
   "outputs": [],
   "source": []
  },
  {
   "cell_type": "code",
   "execution_count": null,
   "metadata": {
    "collapsed": true
   },
   "outputs": [],
   "source": []
  }
 ],
 "metadata": {
  "kernelspec": {
   "display_name": "Python 2",
   "language": "python",
   "name": "python2"
  },
  "language_info": {
   "codemirror_mode": {
    "name": "ipython",
    "version": 2
   },
   "file_extension": ".py",
   "mimetype": "text/x-python",
   "name": "python",
   "nbconvert_exporter": "python",
   "pygments_lexer": "ipython2",
   "version": "2.7.12"
  }
 },
 "nbformat": 4,
 "nbformat_minor": 0
}
