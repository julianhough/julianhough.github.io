{
 "cells": [
  {
   "cell_type": "code",
   "execution_count": 1,
   "metadata": {},
   "outputs": [
    {
     "name": "stdout",
     "output_type": "stream",
     "text": [
      "module not found\n"
     ]
    }
   ],
   "source": [
    "import sys\n",
    "# print sys.modules\n",
    "try:\n",
    "    del sys.modules['scholarly']\n",
    "except KeyError:\n",
    "    print \"module not found\""
   ]
  },
  {
   "cell_type": "code",
   "execution_count": 2,
   "metadata": {},
   "outputs": [],
   "source": [
    "sys.path.append(\"scholarly/\")\n",
    "import scholarly\n",
    "from collections import defaultdict\n",
    "from matplotlib import pyplot as plt"
   ]
  },
  {
   "cell_type": "code",
   "execution_count": 3,
   "metadata": {},
   "outputs": [],
   "source": [
    "author = scholarly.search_author(\"Julian Hough\")"
   ]
  },
  {
   "cell_type": "code",
   "execution_count": null,
   "metadata": {},
   "outputs": [],
   "source": []
  },
  {
   "cell_type": "code",
   "execution_count": 4,
   "metadata": {
    "scrolled": true
   },
   "outputs": [
    {
     "name": "stdout",
     "output_type": "stream",
     "text": [
      "<div class=\"gsc_1usr\"><div class=\"gs_ai gs_scl gs_ai_chpr\"><a class=\"gs_ai_pho\" href=\"/citations?hl=en&amp;user=PYUqCywAAAAJ\"><span class=\"gs_rimg gs_pp_sm\"><img alt=\"Julian Hough\" height=\"56\" sizes=\"56px\" src=\"https://scholar.googleusercontent.com/citations?view_op=small_photo&amp;user=PYUqCywAAAAJ&amp;citpid=13\" srcset=\"https://scholar.googleusercontent.com/citations?view_op=small_photo&amp;user=PYUqCywAAAAJ&amp;citpid=13 56w,https://scholar.googleusercontent.com/citations?view_op=view_photo&amp;user=PYUqCywAAAAJ&amp;citpid=13 128w\" width=\"56\"/></span></a><div class=\"gs_ai_t\"><h3 class=\"gs_ai_name\"><a href=\"/citations?hl=en&amp;user=PYUqCywAAAAJ\"><span class=\"gs_hlt\">Julian Hough</span></a></h3><div class=\"gs_ai_aff\">Queen Mary University of London</div><div class=\"gs_ai_eml\">Verified email at qmul.ac.uk</div><div class=\"gs_ai_cby\">Cited by 900</div><div class=\"gs_ai_int\"><a class=\"gs_ai_one_int\" href=\"/citations?hl=en&amp;view_op=search_authors&amp;mauthors=label:dialogue\">Dialogue</a> <a class=\"gs_ai_one_int\" href=\"/citations?hl=en&amp;view_op=search_authors&amp;mauthors=label:dialogue_systems\">Dialogue Systems</a> <a class=\"gs_ai_one_int\" href=\"/citations?hl=en&amp;view_op=search_authors&amp;mauthors=label:disfluency\">Disfluency</a> <a class=\"gs_ai_one_int\" href=\"/citations?hl=en&amp;view_op=search_authors&amp;mauthors=label:computational_linguistics\">Computational Linguistics</a> <a class=\"gs_ai_one_int\" href=\"/citations?hl=en&amp;view_op=search_authors&amp;mauthors=label:human_robot_interaction\">Human-Robot Interaction</a> </div></div></div></div>\n"
     ]
    }
   ],
   "source": [
    "author = next(author).fill()"
   ]
  },
  {
   "cell_type": "code",
   "execution_count": 5,
   "metadata": {
    "scrolled": true
   },
   "outputs": [
    {
     "name": "stdout",
     "output_type": "stream",
     "text": [
      "2011 5\n",
      "2012 10\n",
      "2013 13\n",
      "2014 31\n",
      "2015 41\n",
      "2016 91\n",
      "2017 146\n",
      "2018 117\n",
      "2019 75\n"
     ]
    }
   ],
   "source": [
    "graph = []\n",
    "years = []\n",
    "for year, cites in sorted(author.cites_per_year.items()):\n",
    "    if True:\n",
    "        if year == 2013:\n",
    "            cites = cites - 66\n",
    "        elif year == 2016:\n",
    "            cites = cites - ( 145 )\n",
    "        elif year == 2017:\n",
    "            cites = cites - ( 155  - 2)\n",
    "    print year, cites\n",
    "    graph.append(cites)"
   ]
  },
  {
   "cell_type": "code",
   "execution_count": 6,
   "metadata": {},
   "outputs": [
    {
     "data": {
      "text/plain": [
       "529"
      ]
     },
     "execution_count": 6,
     "metadata": {},
     "output_type": "execute_result"
    }
   ],
   "source": [
    "sum(graph)"
   ]
  },
  {
   "cell_type": "code",
   "execution_count": 7,
   "metadata": {},
   "outputs": [],
   "source": [
    "def h_score(citations):\n",
    "    h = 0\n",
    "    for i, s in enumerate(sorted(citations, reverse=True)):\n",
    "        if s < (i + 1):\n",
    "            break\n",
    "        h = i +1\n",
    "            \n",
    "    return h\n",
    "\n",
    "def i_score(citations):\n",
    "    return len(filter( lambda x: x>=10, citations))"
   ]
  },
  {
   "cell_type": "code",
   "execution_count": 8,
   "metadata": {},
   "outputs": [],
   "source": [
    "# for pub in author.publications:\n",
    "#    print type(pub), hasattr(pub, 'citedby')"
   ]
  },
  {
   "cell_type": "code",
   "execution_count": 9,
   "metadata": {
    "scrolled": true
   },
   "outputs": [
    {
     "name": "stdout",
     "output_type": "stream",
     "text": [
      "534 citations from 67 papers\n",
      "h 14\n",
      "i 21\n"
     ]
    }
   ],
   "source": [
    "# 2013 BBS abstract cited articles 33 too many\n",
    "# 2016 BBS abstract cited artciles 29 too many\n",
    "# 2017 BBS asbtract cited articles 31 too many\n",
    "penalties = {\n",
    "    'Incremental semantic construction in a dialogue system' : 93,\n",
    "   \n",
    "    'Feedback in conversation as incremental semantic update' : 60,\n",
    "    'Incremental grammar induction from child-directed dialogue utterances' : 60,\n",
    "\n",
    "    'Modelling Incremental Self-Repair Processing in Dialogue.' : 31,\n",
    "    'Incremental semantics driven natural language generation with self-repairing capability' : 33,\n",
    "    'Processing self-repairs in an incremental type-theoretic dialogue system' :  29,\n",
    "    'Modelling expectation in the self-repair processing of annotat-, um, listeners' : 29,\n",
    "    'Probabilistic record type lattices for incremental reference processing' : 31,\n",
    "    'Recurrent neural networks for incremental disfluency detection' : 0,#-2\n",
    "    \n",
    "    'On making syntax dynamic' : 60,\n",
    "    'Finishing each other’s... Responding to incomplete contributions in dialogue'.decode('utf-8') : 33,\n",
    "    'Incrementality and intention-recognition in utterance processing.' : 93,\n",
    "}\n",
    "\n",
    "papers = []\n",
    "years_new = defaultdict(list)\n",
    "citations = []\n",
    "for pub in author.publications:\n",
    "    year = 2018 if not pub.bib.get('year') else pub.bib['year']\n",
    "    cites = 0 if not hasattr(pub, 'citedby') else pub.citedby\n",
    "    \n",
    "    if pub.bib['title'] in penalties.keys():\n",
    "        cites = cites - penalties[pub.bib['title']]\n",
    "    papers.append(cites)\n",
    "    years_new[year].append(cites)\n",
    "    # print pub.bib['title'], cites\n",
    "    citations.append((pub.bib['title'], cites, year))\n",
    "print sum(papers),  \"citations from\", len(papers), \"papers\"\n",
    "print \"h\", h_score(papers)\n",
    "print \"i\", i_score(papers)"
   ]
  },
  {
   "cell_type": "code",
   "execution_count": 10,
   "metadata": {},
   "outputs": [
    {
     "name": "stdout",
     "output_type": "stream",
     "text": [
      "1 Incremental semantic construction in a dialogue system 2011 : 61\n",
      "2 Feedback in conversation as incremental semantic update 2015 : 46\n",
      "3 Modelling Incremental Self-Repair Processing in Dialogue. 2015 : 32\n",
      "4 Dylan: Parser for dynamic syntax 2011 : 29\n",
      "5 Conversational interactions: Capturing dialogue dynamics 2012 : 25\n",
      "6 Strongly incremental repair detection 2014 : 20\n",
      "7 Incremental grammar induction from child-directed dialogue utterances 2013 : 18\n",
      "8 Recurrent neural networks for incremental disfluency detection 2015 : 18\n",
      "9 Probabilistic type theory for incremental dialogue processing 2014 : 18\n",
      "10 PentoRef: A corpus of spoken references in task-oriented dialogues 2016 : 17\n",
      "11 Recognising conversational speech: What an incremental asr should do f 2017 : 16\n",
      "12 Processing self-repairs in an incremental type-theoretic dialogue syst 2012 : 15\n",
      "13 Towards Deep End-of-Turn Prediction for Situated Spoken Dialogue Syste 2017 : 14\n",
      "14 A multimodal system for real-time action instruction in motor skill le 2015 : 14\n",
      "15 Understanding laughter 2015 : 13\n",
      "16 Incremental semantics for dialogue processing: Requirements, and a com 2015 : 13\n",
      "17 Incremental semantics driven natural language generation with self-rep 2011 : 12\n",
      "18 It's Not What You Do, It's How You Do It: Grounding Uncertainty for a  2017 : 12\n",
      "19 Investigating fluidity for human-robot interaction with real-time, rea 2016 : 10\n",
      "20 Duel: A multi-lingual multimodal dialogue corpus for disfluency, excla 2016 : 10\n",
      "21 Dialogue and Compound Contributions 2014 : 10\n",
      "22 Probabilistic record type lattices for incremental reference processin 2017 : 8\n",
      "23 Modelling expectation in the self-repair processing of annotat-, um, l 2013 : 8\n",
      "24 Probabilistic induction for an incremental semantic grammar. 2013 : 8\n",
      "25 Helping, I mean assessing psychiatric communication: An application of 2014 : 7\n",
      "26 Probabilistic grammar induction in an incremental semantic framework 2012 : 7\n",
      "27 Ellipsis in Dynamic Syntax 2018 : 6\n",
      "28 Joint, Incremental Disfluency Detection and Utterance Segmentation fro 2017 : 6\n",
      "29 Dialogue structure of coaching sessions 2014 : 6\n",
      "30 The disfluency, exclamation and laughter in dialogue (DUEL) project 2014 : 6\n",
      "31 Computational Models of Miscommunication Phenomena 2018 : 5\n",
      "32 Demonstrating the dialogue system of the intelligent coaching space 2015 : 5\n",
      "33 Disfluency and laughter annotation in a light-weight dialogue mark-up  2015 : 5\n",
      "34 Timing and grounding in motor skill coaching interaction: Consequences 2015 : 5\n",
      "35 Well, that’s one way”: interactivity in parsing and production 2013 : 5\n",
      "36 The intelligent coaching space: A demonstration 2017 : 4\n",
      "37 Disfluencies in dialogues with patients with schizophrenia 2017 : 4\n",
      "38 Exploring Semantic Incrementality with Dynamic Syntax and Vector Space 2018 : 3\n",
      "39 Incrementality and clarification/sluicing potential 2018 : 3\n",
      "40 Natural Language Informs the Interpretation of Iconic Gestures: A Comp 2017 : 2\n",
      "41 Deictic gestures in coaching interactions 2016 : 2\n",
      "42 Exploring the body and head kinematics of laughter, filled pauses and  2015 : 2\n",
      "43 Why natural language models must be partial and shifting: a Dynamic Sy 2019 : 1\n",
      "44 A Model of Continuous Intention Grounding for HRI 2017 : 1\n",
      "45 Lattice Theoretic Relevance in Incremental Reference Processing 2014 : 1\n",
      "46 Inducing lexical entries for an incremental semantic grammar 2012 : 1\n",
      "47 Exploring Lattice-based Models of Relevance in Dialogue for Questions  2019 : 0\n",
      "48 A Corpus Study on Questions, Responses and Misunderstanding Signals in 2019 : 0\n",
      "49 Normativity, Meaning Plasticity, and the Significance of Vector Space  2019 : 0\n",
      "50 “What are you laughing at?” Incremental processing of laughter in inte 2019 : 0\n",
      "51 Detecting Depression with Word-Level Multimodal Fusion 2019 : 0\n",
      "52 Proceedings of the IWCS Workshop Vector Semantics for Discourse and Di 2019 : 0\n",
      "53 Real-time testing of non-verbal interaction: An experimental method an 2018 : 0\n",
      "54 Predicting Object Affordances within a Continuous Dialogue State Updat 2018 : 0\n",
      "55 Towards a Types-As-Classifiers Approach to Dialogue Processing in Huma 2018 : 0\n",
      "56 Proposals to generalise Dynamic Syntax for wider application 2018 : 0\n",
      "57 Self-repair in dialogues with patients with schizophrenia 2017 : 0\n",
      "58 Grounding Imperatives to Actions is Not Enough: A Challenge for Ground 2017 : 0\n",
      "59 Language: The tool for interaction-surfing uncertainty together 2016 : 0\n",
      "60 PentoRob: A Puzzle-Playing Robot for Dialogue Experiments 2016 : 0\n",
      "61 Better late than Now-or-Never: The case of interactive repair phenomen 2016 : 0\n",
      "62 Helping hands? Gesture and self-repair in schizophrenia 2016 : 0\n",
      "63 Languages as Mechanisms for Interaction: Explorations and Repercussion 2016 : 0\n",
      "64 Inferring Meaning From Disfluencies in an Incremental Dialogue Framewo 2015 : 0\n",
      "65 Token Gestures: Self-repair and Gesture in Schizophrenia 2015 : 0\n",
      "66 Data-driven learning in an incremental grammar framework 2013 : 0\n",
      "67 On the processing of elliptical fragments: a Preliminary Report 2011 : 0\n"
     ]
    },
    {
     "data": {
      "image/png": "[encoded data removed]",
      "text/plain": [
       "<Figure size 432x288 with 1 Axes>"
      ]
     },
     "metadata": {
      "needs_background": "light"
     },
     "output_type": "display_data"
    }
   ],
   "source": [
    "count = 0\n",
    "pub_data = []\n",
    "for x,y,z in sorted(citations, key=lambda x:x[1], reverse=True):\n",
    "   # if z <2014: continue\n",
    "    count+=1\n",
    "    print count, x[:70],z, \":\", y\n",
    "    pub_data.append(y)\n",
    "    #x, y, z = s\n",
    "    #print \"\\t\".join([str(i+1), x[:13], str(y), str(z)])\n",
    "plt.bar(range(1, len(pub_data)+1),pub_data)\n",
    "plt.show()"
   ]
  },
  {
   "cell_type": "code",
   "execution_count": 11,
   "metadata": {},
   "outputs": [
    {
     "name": "stdout",
     "output_type": "stream",
     "text": [
      "[5, 10, 13, 31, 41, 91, 146, 117, 75]\n"
     ]
    },
    {
     "data": {
      "image/png": "[encoded data removed]",
      "text/plain": [
       "<Figure size 432x288 with 1 Axes>"
      ]
     },
     "metadata": {
      "needs_background": "light"
     },
     "output_type": "display_data"
    }
   ],
   "source": [
    "#graph[-1] = 150\n",
    "print graph\n",
    "x = range(2020-len(graph),2020)\n",
    "plt.bar(x,graph)\n",
    "#plt.plot(graph)\n",
    "\n",
    "plt.xticks(x, x)\n",
    "plt.savefig(\"citations.png\")\n",
    "plt.show()\n"
   ]
  },
  {
   "cell_type": "code",
   "execution_count": null,
   "metadata": {},
   "outputs": [],
   "source": []
  },
  {
   "cell_type": "code",
   "execution_count": null,
   "metadata": {},
   "outputs": [],
   "source": []
  }
 ],
 "metadata": {
  "kernelspec": {
   "display_name": "Python 2",
   "language": "python",
   "name": "python2"
  },
  "language_info": {
   "codemirror_mode": {
    "name": "ipython",
    "version": 2
   },
   "file_extension": ".py",
   "mimetype": "text/x-python",
   "name": "python",
   "nbconvert_exporter": "python",
   "pygments_lexer": "ipython2",
   "version": "2.7.16"
  }
 },
 "nbformat": 4,
 "nbformat_minor": 1
}
