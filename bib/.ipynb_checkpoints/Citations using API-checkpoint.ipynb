{
 "cells": [
  {
   "cell_type": "code",
   "execution_count": 1,
   "metadata": {},
   "outputs": [
    {
     "name": "stdout",
     "output_type": "stream",
     "text": [
      "module not found\n"
     ]
    }
   ],
   "source": [
    "import sys\n",
    "from collections import Counter\n",
    "# print sys.modules\n",
    "try:\n",
    "    del sys.modules['scholarly']\n",
    "except KeyError:\n",
    "    print \"module not found\""
   ]
  },
  {
   "cell_type": "code",
   "execution_count": 2,
   "metadata": {},
   "outputs": [],
   "source": [
    "sys.path.append(\"scholarly/\")\n",
    "import scholarly\n",
    "from collections import defaultdict\n",
    "from matplotlib import pyplot as plt"
   ]
  },
  {
   "cell_type": "code",
   "execution_count": 3,
   "metadata": {},
   "outputs": [],
   "source": [
    "author = scholarly.search_author(\"Julian Hough\")"
   ]
  },
  {
   "cell_type": "code",
   "execution_count": 4,
   "metadata": {
    "scrolled": true
   },
   "outputs": [
    {
     "name": "stdout",
     "output_type": "stream",
     "text": [
      "<div class=\"gsc_1usr\"><div class=\"gs_ai gs_scl gs_ai_chpr\"><a class=\"gs_ai_pho\" href=\"/citations?hl=en&amp;user=PYUqCywAAAAJ\"><span class=\"gs_rimg gs_pp_sm\"><img alt=\"Julian Hough\" height=\"56\" sizes=\"56px\" src=\"https://scholar.googleusercontent.com/citations?view_op=small_photo&amp;user=PYUqCywAAAAJ&amp;citpid=13\" srcset=\"https://scholar.googleusercontent.com/citations?view_op=small_photo&amp;user=PYUqCywAAAAJ&amp;citpid=13 56w,https://scholar.googleusercontent.com/citations?view_op=view_photo&amp;user=PYUqCywAAAAJ&amp;citpid=13 128w\" width=\"56\"/></span></a><div class=\"gs_ai_t\"><h3 class=\"gs_ai_name\"><a href=\"/citations?hl=en&amp;user=PYUqCywAAAAJ\"><span class=\"gs_hlt\">Julian Hough</span></a></h3><div class=\"gs_ai_aff\">Queen Mary University of London</div><div class=\"gs_ai_eml\">Verified email at qmul.ac.uk</div><div class=\"gs_ai_cby\">Cited by 1118</div><div class=\"gs_ai_int\"><a class=\"gs_ai_one_int\" href=\"/citations?hl=en&amp;view_op=search_authors&amp;mauthors=label:dialogue\">Dialogue</a> <a class=\"gs_ai_one_int\" href=\"/citations?hl=en&amp;view_op=search_authors&amp;mauthors=label:dialogue_systems\">Dialogue Systems</a> <a class=\"gs_ai_one_int\" href=\"/citations?hl=en&amp;view_op=search_authors&amp;mauthors=label:disfluency\">Disfluency</a> <a class=\"gs_ai_one_int\" href=\"/citations?hl=en&amp;view_op=search_authors&amp;mauthors=label:computational_linguistics\">Computational Linguistics</a> <a class=\"gs_ai_one_int\" href=\"/citations?hl=en&amp;view_op=search_authors&amp;mauthors=label:human_robot_interaction\">Human-Robot Interaction</a> </div></div></div></div>\n"
     ]
    }
   ],
   "source": [
    "author = next(author).fill()"
   ]
  },
  {
   "cell_type": "code",
   "execution_count": 5,
   "metadata": {},
   "outputs": [],
   "source": [
    "# 2013 BBS abstract cited articles 33 too many\n",
    "# 2016 BBS abstract cited artciles 29 too many\n",
    "# 2017 BBS asbtract cited articles 32 too many\n",
    "\n",
    "BBS_2013_PEN = {\"BBS_2013_PEN\" : 33}\n",
    "BBS_2016_PEN = {\"BBS_2016_PEN\" : 29}\n",
    "BBS_2017_PEN = {\"BBS_2017_PEN\" : 32}\n",
    "IS_2015_PEN = {\"IS_2015_BONUS\" : 0}"
   ]
  },
  {
   "cell_type": "code",
   "execution_count": 6,
   "metadata": {},
   "outputs": [],
   "source": [
    "def h_score(citations):\n",
    "    h = 0\n",
    "    for i, s in enumerate(sorted(citations, reverse=True)):\n",
    "        if s < (i + 1):\n",
    "            break\n",
    "        h = i +1\n",
    "            \n",
    "    return h\n",
    "\n",
    "def i_score(citations):\n",
    "    return len(filter( lambda x: x>=10, citations))"
   ]
  },
  {
   "cell_type": "code",
   "execution_count": 7,
   "metadata": {},
   "outputs": [],
   "source": [
    "# for pub in author.publications:\n",
    "#    print type(pub), hasattr(pub, 'citedby')"
   ]
  },
  {
   "cell_type": "code",
   "execution_count": 8,
   "metadata": {
    "scrolled": true
   },
   "outputs": [
    {
     "name": "stdout",
     "output_type": "stream",
     "text": [
      "after 2016 5 5.2\n",
      "Counter({'BBS_2016_PEN': 5, 'BBS_2017_PEN': 5, 'BBS_2013_PEN': 2, 'IS_2015_BONUS': 1})\n",
      "missing from years 0\n",
      "747 citations from 77 papers\n",
      "h 17\n",
      "i 28\n"
     ]
    }
   ],
   "source": [
    "penalties = {\n",
    "    'Incremental semantic construction in a dialogue system' : [BBS_2013_PEN, BBS_2016_PEN, BBS_2017_PEN],\n",
    "   \n",
    "    'Feedback in conversation as incremental semantic update' : [BBS_2016_PEN, BBS_2017_PEN],\n",
    "    'Incremental grammar induction from child-directed dialogue utterances' : [BBS_2016_PEN, BBS_2017_PEN],\n",
    "\n",
    "    'Incremental semantics driven natural language generation with self-repairing capability' : [BBS_2013_PEN],\n",
    "    \n",
    "    'Modelling Incremental Self-Repair Processing in Dialogue.' : [BBS_2017_PEN],\n",
    "    'Probabilistic record type lattices for incremental reference processing' : [BBS_2017_PEN],\n",
    "    \n",
    "    'Processing self-repairs in an incremental type-theoretic dialogue system' :  [BBS_2016_PEN],\n",
    "    'Modelling expectation in the self-repair processing of annotat-, um, listeners' : [BBS_2016_PEN],\n",
    "\n",
    "    \n",
    "    'Recurrent neural networks for incremental disfluency detection' : [IS_2015_PEN],#-2\n",
    "    \n",
    "    'On making syntax dynamic' : [BBS_2016_PEN, BBS_2017_PEN],\n",
    "    'Finishing each other’s... Responding to incomplete contributions in dialogue' : [BBS_2013_PEN],\n",
    "    'Divergence in dialogue' : [BBS_2017_PEN, BBS_2016_PEN],\n",
    "    'Divergence in Dialogue' : [BBS_2017_PEN, BBS_2016_PEN],\n",
    "    'The dynamics of lexical interfaces' : [BBS_2013_PEN],\n",
    "    'Structural divergence in dialogue' : [BBS_2013_PEN],\n",
    "     'Helping the medicine go down: Repair and adherence in patient-clinician dialogues' : [BBS_2016_PEN],\n",
    "    'Language, music and interaction' : [BBS_2016_PEN],\n",
    "    'Making a Contribution: Processing clarification requests in dialogue.': [BBS_2016_PEN],\n",
    "    \"Incrementality and intention-recognition in utterance processing\" : [BBS_2013_PEN, \n",
    "                                                                               BBS_2016_PEN,\n",
    "                                                                               BBS_2017_PEN],\n",
    "    \"\"\"Splitting the ‘I’s and crossing the ‘You’s: Context, speech acts and grammar\"\"\" : [BBS_2017_PEN, BBS_2016_PEN],\n",
    "    \"Language as mechanisms for interaction\" : [BBS_2017_PEN],\n",
    "    \"Joint utterances and the (split-) turn taking puzzle\" : [BBS_2017_PEN],\n",
    "    \"Grammar as action in language and music\" : [BBS_2017_PEN],\n",
    "    \"Quotation in Dialogue\" : [BBS_2017_PEN],\n",
    "    \"The role of intentions in dialogue processing\" : [BBS_2017_PEN],\n",
    "    \"Procedural syntax\" : [BBS_2017_PEN],\n",
    "    \"Action-based grammar\" : [BBS_2017_PEN],\n",
    "    \"Grammars as parsers: Meeting the dialogue challenge\" : [BBS_2013_PEN, BBS_2016_PEN],\n",
    "    \"On incrementality in dialogue: Evidence from compound contributions\" : [BBS_2013_PEN],\n",
    "    \"Context and well-formedness: the dynamics of ellipsis\" : [BBS_2016_PEN],\n",
    "    \"Finishing each other’s... Responding to incomplete contributions in dialogue\": [BBS_2013_PEN],\n",
    "    \"Making a contribution: Processing clarification requests in dialogue\" : [BBS_2016_PEN]\n",
    "}\n",
    "\n",
    "CURRENT_YEAR = 2021\n",
    "\n",
    "penalty_type_counts = Counter()\n",
    "papers = []\n",
    "years_new = defaultdict(list)\n",
    "citations = []\n",
    "missing_from_years = []\n",
    "for pub in author.publications:\n",
    "    missing = False\n",
    "    if not pub.bib.get('year'):\n",
    "        missing = True\n",
    "    else:\n",
    "        year = pub.bib['year']\n",
    "    cites = 0 if not hasattr(pub, 'citedby') else pub.citedby\n",
    "    if True:\n",
    "        if pub.bib['title'].encode('utf-8') in penalties.keys():\n",
    "            pen = sum([x.values()[0] for x in penalties[pub.bib['title'].encode('utf-8')]])\n",
    "            for x in penalties[pub.bib['title'].encode('utf-8')]:\n",
    "                penalty_type_counts[x.keys()[0]] += 1\n",
    "            if cites - pen > 0:\n",
    "                cites = cites - pen\n",
    "    #if year <2014:\n",
    "    #    continue\n",
    "    if missing:\n",
    "        year = CURRENT_YEAR\n",
    "        missing_from_years.append(cites)\n",
    "    papers.append(cites)\n",
    "    years_new[year].append(cites)\n",
    "    # print pub.bib['title'], cites\n",
    "    age = (CURRENT_YEAR - year)\n",
    "    if age <= 0:\n",
    "        age = 0.5   # give half a year for new pubs, so not 0\n",
    "    cite_rate = float(cites)/float(age)\n",
    "    if \"Recognising conversational speech: What an incremental asr\" in pub.bib['title']:\n",
    "        year = year -1\n",
    "        age = age + 1\n",
    "        cite_rate = float(cites)/float(age)\n",
    "        print \"after\", year, age, cite_rate\n",
    "    citations.append((pub.bib['title'], cites, cite_rate, year))\n",
    "print penalty_type_counts\n",
    "print \"missing from years\", sum(missing_from_years)\n",
    "print sum(papers),  \"citations from\", len(papers), \"papers\"\n",
    "print \"h\", h_score(papers)\n",
    "print \"i\", i_score(papers)"
   ]
  },
  {
   "cell_type": "code",
   "execution_count": 12,
   "metadata": {},
   "outputs": [
    {
     "name": "stdout",
     "output_type": "stream",
     "text": [
      "1 Feedback in conversation as incremental semantic update 2015 : 59 9.83333333333\n",
      "2 Incremental semantic construction in a dialogue system 2011 : 69 6.9\n",
      "3 Modelling Incremental Self-Repair Processing in Dialogue. 2015 : 40 6.66666666667\n",
      "4 Towards Deep End-of-Turn Prediction for Situated Spoken Dialogue Systems 2017 : 24 6.0\n",
      "5 Computational Models of Miscommunication Phenomena 2018 : 17 5.66666666667\n",
      "6 Recognising conversational speech: What an incremental asr should do for a dialogue system and how to get there 2016 : 26 5.2\n",
      "7 Recurrent neural networks for incremental disfluency detection 2015 : 30 5.0\n",
      "8 Duel: A multi-lingual multimodal dialogue corpus for disfluency, exclamations and laughter 2016 : 25 5.0\n",
      "9 Pentoref: A corpus of spoken references in task-oriented dialogues 2016 : 24 4.8\n",
      "10 It's Not What You Do, It's How You Do It: Grounding Uncertainty for a Simple Robot 2017 : 16 4.0\n",
      "11 Multi-modal Fusion with Gating using Audio, Lexical and Disfluency Features for Alzheimer’s Dementia Recognition from Spontaneous Speech 2020 : 4 4.0\n",
      "12 Strongly incremental repair detection 2014 : 27 3.85714285714\n",
      "13 Understanding laughter 2015 : 23 3.83333333333\n",
      "14 Dylan: Parser for dynamic syntax 2011 : 36 3.6\n",
      "15 Conversational interactions: Capturing dialogue dynamics 2012 : 32 3.55555555556\n",
      "16 Ellipsis in Dynamic Syntax 2018 : 10 3.33333333333\n",
      "17 Probabilistic type theory for incremental dialogue processing 2014 : 21 3.0\n",
      "18 A multimodal system for real-time action instruction in motor skill learning 2015 : 17 2.83333333333\n",
      "19 Incremental semantics for dialogue processing: Requirements, and a comparison of two approaches 2015 : 17 2.83333333333\n",
      "20 Investigating fluidity for human-robot interaction with real-time, real-world grounding strategies 2016 : 14 2.8\n",
      "21 Joint, Incremental Disfluency Detection and Utterance Segmentation from Speech 2017 : 11 2.75\n",
      "22 Incremental grammar induction from child-directed dialogue utterances 2013 : 20 2.5\n",
      "23 Disfluencies in dialogues with patients with schizophrenia 2017 : 10 2.5\n",
      "24 Detecting Depression with Word-Level Multimodal Fusion 2019 : 5 2.5\n",
      "25 Exploring Semantic Incrementality with Dynamic Syntax and Vector Space Semantics 2018 : 7 2.33333333333\n",
      "26 Processing self-repairs in an incremental type-theoretic dialogue system 2012 : 18 2.0\n",
      "27 Probabilistic record type lattices for incremental reference processing 2017 : 8 2.0\n",
      "28 Disfluency and laughter annotation in a light-weight dialogue mark-up protocol 2015 : 10 1.66666666667\n",
      "29 Dialogue and Compound Contributions 2014 : 11 1.57142857143\n",
      "30 The intelligent coaching space: A demonstration 2017 : 6 1.5\n",
      "31 Natural Language Informs the Interpretation of Iconic Gestures. A Computational Approach 2017 : 6 1.5\n",
      "32 Modelling expectation in the self-repair processing of annotat-, um, listeners 2013 : 11 1.375\n",
      "33 Probabilistic induction for an incremental semantic grammar. 2013 : 11 1.375\n",
      "34 Incrementality and clarification/sluicing potential 2018 : 4 1.33333333333\n",
      "35 Incremental semantics driven natural language generation with self-repairing capability 2011 : 13 1.3\n",
      "36 Helping, I mean assessing psychiatric communication: An application of incremental self-repair detection 2014 : 8 1.14285714286\n",
      "37 Probabilistic grammar induction in an incremental semantic framework 2012 : 9 1.0\n",
      "38 Demonstrating the dialogue system of the intelligent coaching space 2015 : 6 1.0\n",
      "39 Timing and grounding in motor skill coaching interaction: Consequences for the information state 2015 : 6 1.0\n",
      "40 A Corpus Study on Questions, Responses and Misunderstanding Signals in Conversations with Alzheimer’s Patients 2019 : 2 1.0\n",
      "41 Dialogue structure of coaching sessions 2014 : 6 0.857142857143\n",
      "42 Deictic gestures in coaching interactions 2016 : 4 0.8\n",
      "43 The disfluency, exclamation and laughter in dialogue (DUEL) project 2014 : 5 0.714285714286\n",
      "44 Well, that’s one way”: interactivity in parsing and production 2013 : 5 0.625\n",
      "45 Exploring the body and head kinematics of laughter, filled pauses and breaths 2015 : 3 0.5\n",
      "46 A Model of Continuous Intention Grounding for HRI 2017 : 2 0.5\n",
      "47 Normativity, Meaning Plasticity, and the Significance of Vector Space Semantics 2019 : 1 0.5\n",
      "48 Why natural language models must be partial and shifting: a Dynamic Syntax with Vector Space Semantics perspective 2019 : 1 0.5\n",
      "49 Better late than Now-or-Never: The case of interactive repair phenomena 2016 : 2 0.4\n",
      "50 Helping hands? Gesture and self-repair in schizophrenia 2016 : 2 0.4\n",
      "51 Real-time testing of non-verbal interaction: An experimental method and platform 2018 : 1 0.333333333333\n",
      "52 Lattice Theoretic Relevance in Incremental Reference Processing 2014 : 1 0.142857142857\n",
      "53 Inducing lexical entries for an incremental semantic grammar 2012 : 1 0.111111111111\n",
      "54 8 Reproducing an experiment in automatic disfluency detection 2021 : 0 0.0\n",
      "55 Incremental Composition in Distributional Semantics 2021 : 0 0.0\n",
      "56 Investigating the Semantic Wave in Tutorial Dialogues: An Annotation Scheme and Corpus Study on Analogy Components. 2020 : 0 0.0\n",
      "57 Affordance competition in dialogue: the case of syntactic universals 2020 : 0 0.0\n",
      "58 Re-framing Incremental Deep Language Models for Dialogue Processing with Multi-task Learning 2020 : 0 0.0\n",
      "59 A Statistical and Machine Learning Investigation into the Effect of Demographic Context on Dialogue Phenomena 2020 : 0 0.0\n",
      "60 Comparing models of speakers’ and listeners’ head nods 2020 : 0 0.0\n",
      "61 A Types-As-Classifiers Approach to Human-Robot Interaction for Continuous Structured State Classification 2020 : 0 0.0\n",
      "62 Interaction Patterns in Conversations with Alzheimer’s Patients⋆ 2019 : 0 0.0\n",
      "63 Exploring Lattice-based Models of Relevance in Dialogue for Questions and Implicatures 2019 : 0 0.0\n",
      "64 “What are you laughing at?” Incremental processing of laughter in interaction 2019 : 0 0.0\n",
      "65 Proceedings of the IWCS Workshop Vector Semantics for Discourse and Dialogue 2019 : 0 0.0\n",
      "66 Predicting Object Affordances within a Continuous Dialogue State Update Process for Human-Robot-Interaction 2018 : 0 0.0\n",
      "67 Towards a Types-As-Classifiers Approach to Dialogue Processing in Human-Robot Interaction 2018 : 0 0.0\n",
      "68 Proposals to generalise Dynamic Syntax for wider application 2018 : 0 0.0\n",
      "69 The Distribution of Editing Phrases in German, French and Chinese Dialogues 2017 : 0 0.0\n",
      "70 Self-repair in dialogues with patients with schizophrenia 2017 : 0 0.0\n",
      "71 Grounding Imperatives to Actions is Not Enough: A Challenge for Grounded NLU for Robots from Human-Human Data 2017 : 0 0.0\n",
      "72 Language: The tool for interaction-surfing uncertainty together 2016 : 0 0.0\n",
      "73 PentoRob: A Puzzle-Playing Robot for Dialogue Experiments 2016 : 0 0.0\n",
      "74 Languages as Mechanisms for Interaction: Explorations and Repercussions 2016 : 0 0.0\n",
      "75 Token Gestures: Self-repair and Gesture in Schizophrenia 2015 : 0 0.0\n",
      "76 Data-driven learning in an incremental grammar framework 2013 : 0 0.0\n",
      "77 On the processing of elliptical fragments: a Preliminary Report 2011 : 0 0.0\n"
     ]
    },
    {
     "data": {
      "image/png": "[encoded data removed]",
      "text/plain": [
       "<Figure size 432x288 with 1 Axes>"
      ]
     },
     "metadata": {
      "needs_background": "light"
     },
     "output_type": "display_data"
    },
    {
     "name": "stdout",
     "output_type": "stream",
     "text": [
      "747\n"
     ]
    }
   ],
   "source": [
    "count = 0\n",
    "pub_data = []\n",
    "for title, num_cites, cite_rate, year in sorted(citations, key=lambda title:title[2], reverse=True):\n",
    "    #if year < 2014:\n",
    "    #    continue\n",
    "    if \"SemEval\" in title:\n",
    "        continue\n",
    "    if False:\n",
    "        if title == \"Modelling Incremental Self-Repair Processing in Dialogue.\":\n",
    "            continue  # skip thesis? for REF :(\n",
    "        if \"Duel:\" in title:\n",
    "            continue\n",
    "        if \"Pentoref:\" in title:\n",
    "            continue\n",
    "    count+=1\n",
    "    print count, title, year, \":\", num_cites, cite_rate\n",
    "    pub_data.append(num_cites)\n",
    "plt.bar(range(1, len(pub_data)+1),pub_data)\n",
    "plt.show()\n",
    "print sum(pub_data)"
   ]
  },
  {
   "cell_type": "code",
   "execution_count": 10,
   "metadata": {},
   "outputs": [
    {
     "name": "stdout",
     "output_type": "stream",
     "text": [
      "2011 3\n",
      "2012 10\n",
      "2013 18\n",
      "2014 38\n",
      "2015 42\n",
      "2016 90\n",
      "2017 162\n",
      "2018 126\n",
      "2019 85\n",
      "2020 133\n",
      "2021 33\n",
      "[3, 10, 18, 38, 42, 90, 162, 126, 85, 133, 33]\n"
     ]
    },
    {
     "data": {
      "image/png": "[encoded data removed]",
      "text/plain": [
       "<Figure size 1080x360 with 1 Axes>"
      ]
     },
     "metadata": {
      "needs_background": "light"
     },
     "output_type": "display_data"
    },
    {
     "name": "stdout",
     "output_type": "stream",
     "text": [
      "740\n"
     ]
    }
   ],
   "source": [
    "graph = []\n",
    "years = []\n",
    "ticks = []\n",
    "for year, cites in sorted(author.cites_per_year.items()):\n",
    "    if True:\n",
    "        #if year == 2004:\n",
    "        #    cites = cites - 110\n",
    "        if year == 2013:\n",
    "            cites = cites - ((penalty_type_counts[\"BBS_2013_PEN\"]) * BBS_2013_PEN.values()[0])\n",
    "        elif year == 2016:\n",
    "            cites = cites - ((penalty_type_counts[\"BBS_2016_PEN\"]) * BBS_2016_PEN.values()[0])\n",
    "        elif year == 2017:\n",
    "            cites = cites - ((penalty_type_counts[\"BBS_2017_PEN\"]) * BBS_2017_PEN.values()[0]) #- 2)\n",
    "    print year, cites\n",
    "    graph.append(cites)\n",
    "    ticks.append(year)\n",
    "\n",
    "\n",
    "#graph[-1] = 150\n",
    "print graph\n",
    "\n",
    "plt.figure(figsize=(15, 5))\n",
    "plt.bar(ticks,graph)\n",
    "#plt.plot(graph)\n",
    "\n",
    "plt.xticks(ticks, ticks)\n",
    "plt.savefig(\"citations.png\")\n",
    "plt.show()\n",
    "print sum(graph)"
   ]
  },
  {
   "cell_type": "code",
   "execution_count": 11,
   "metadata": {},
   "outputs": [
    {
     "name": "stdout",
     "output_type": "stream",
     "text": [
      "2011 118\n",
      "2012 60\n",
      "2013 47\n",
      "2014 79\n",
      "2015 211\n",
      "2016 71\n",
      "2017 109\n",
      "2018 39\n",
      "2019 9\n",
      "2020 4\n",
      "2021 0\n",
      "[118, 60, 47, 79, 211, 71, 109, 39, 9, 4, 0]\n"
     ]
    },
    {
     "data": {
      "image/png": "[encoded data removed]",
      "text/plain": [
       "<Figure size 1080x360 with 1 Axes>"
      ]
     },
     "metadata": {
      "needs_background": "light"
     },
     "output_type": "display_data"
    }
   ],
   "source": [
    "# which year's papers get cited the most?\n",
    "graph = []\n",
    "ticks = []\n",
    "for year, papers in sorted(years_new.items(), key=lambda x:x[0]):\n",
    "    print year, sum(papers)\n",
    "    graph.append(sum(papers))\n",
    "    ticks.append(year)\n",
    "print graph\n",
    "\n",
    "plt.figure(figsize=(15, 5))\n",
    "plt.bar(ticks,graph)\n",
    "#plt.plot(graph)\n",
    "\n",
    "plt.xticks(ticks, ticks)\n",
    "plt.savefig(\"citations.png\")\n",
    "plt.show()"
   ]
  },
  {
   "cell_type": "code",
   "execution_count": null,
   "metadata": {},
   "outputs": [],
   "source": []
  },
  {
   "cell_type": "code",
   "execution_count": null,
   "metadata": {},
   "outputs": [],
   "source": []
  }
 ],
 "metadata": {
  "kernelspec": {
   "display_name": "Python 2",
   "language": "python",
   "name": "python2"
  },
  "language_info": {
   "codemirror_mode": {
    "name": "ipython",
    "version": 2
   },
   "file_extension": ".py",
   "mimetype": "text/x-python",
   "name": "python",
   "nbconvert_exporter": "python",
   "pygments_lexer": "ipython2",
   "version": "2.7.16"
  }
 },
 "nbformat": 4,
 "nbformat_minor": 1
}
