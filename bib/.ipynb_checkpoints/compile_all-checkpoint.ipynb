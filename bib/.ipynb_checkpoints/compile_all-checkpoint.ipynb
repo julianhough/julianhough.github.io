{
 "cells": [
  {
   "cell_type": "code",
   "execution_count": 1,
   "metadata": {
    "collapsed": true
   },
   "outputs": [],
   "source": [
    "import os"
   ]
  },
  {
   "cell_type": "code",
   "execution_count": 2,
   "metadata": {
    "collapsed": false
   },
   "outputs": [],
   "source": [
    "files = filter(lambda x : \".bib\" in x and not \"all.\" in x, [x for x in os.listdir(\"../bib/\")])"
   ]
  },
  {
   "cell_type": "code",
   "execution_count": 3,
   "metadata": {
    "collapsed": false
   },
   "outputs": [
    {
     "name": "stdout",
     "output_type": "stream",
     "text": [
      "45 entries\n"
     ]
    }
   ],
   "source": [
    "print len(files), \"entries\""
   ]
  },
  {
   "cell_type": "code",
   "execution_count": 4,
   "metadata": {
    "collapsed": false
   },
   "outputs": [],
   "source": [
    "overall = open(\"all.bib\",\"w\")\n",
    "for x in files:\n",
    "    in_abstract = False\n",
    "    for line in open(x):\n",
    "        if \" url\" in line or \" URL\" in line: continue\n",
    "        if \" abstract =\" in line:\n",
    "            in_abstract = True\n",
    "        elif \" = \" in line or line.replace(\" \", \"\") == \"}\":\n",
    "            in_abstract = False\n",
    "        if in_abstract:\n",
    "            continue\n",
    "        overall.write(line)\n",
    "    overall.write(\"\\n\\n\")\n",
    "overall.close()"
   ]
  },
  {
   "cell_type": "code",
   "execution_count": 13,
   "metadata": {
    "collapsed": false
   },
   "outputs": [],
   "source": []
  },
  {
   "cell_type": "code",
   "execution_count": null,
   "metadata": {
    "collapsed": true
   },
   "outputs": [],
   "source": []
  }
 ],
 "metadata": {
  "kernelspec": {
   "display_name": "Python 2",
   "language": "python",
   "name": "python2"
  },
  "language_info": {
   "codemirror_mode": {
    "name": "ipython",
    "version": 2
   },
   "file_extension": ".py",
   "mimetype": "text/x-python",
   "name": "python",
   "nbconvert_exporter": "python",
   "pygments_lexer": "ipython2",
   "version": "2.7.12"
  }
 },
 "nbformat": 4,
 "nbformat_minor": 0
}
