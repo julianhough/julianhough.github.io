{
 "cells": [
  {
   "cell_type": "code",
   "execution_count": 31,
   "metadata": {
    "collapsed": true
   },
   "outputs": [],
   "source": [
    "from collections import defaultdict\n",
    "from __future__ import division"
   ]
  },
  {
   "cell_type": "code",
   "execution_count": 2,
   "metadata": {
    "collapsed": false
   },
   "outputs": [],
   "source": [
    "citations = [\n",
    "    ('Hough11RANLP', 43-33, 2011),\n",
    "    ('EshghiEtAl11DyLan', 21, 2011),\n",
    "    ('PurverEtAl11IWCS', 147-33-31-29, 2011),\n",
    "    ('KempsonEtal11Ellipsis', 0, 2011),\n",
    "    \n",
    "    ('EshghiEtAl12CSLPconference', 0, 2012),\n",
    "    ('EshghiEtAl12Cooper', 22, 2012),\n",
    "    ('EshghiEtAl12CSLP', 6, 2012),\n",
    "    ('HoughPurver12SemDial', 41-29, 2012),\n",
    "    \n",
    "    ('EshghiEtAl13CMCL', 76-29-31, 2013),\n",
    "    ('HoughPurver13SemDial', 37-29, 2013),\n",
    "    ('PurverEtAL13LingEv', 0, 2013),\n",
    "    ('EshghiEtAl13IWCS', 6, 2013),\n",
    "    ('HowesEtAl13BBS', 5, 2013),\n",
    "    \n",
    "    ('HoughPurver14EMNLP', 15, 2014),\n",
    "    ('HowesEtAl14Semdial', 6, 2014),\n",
    "    ('DeKokEtAl14Semdial', 5, 2014),\n",
    "    ('HoughPurver14Lattice', 1, 2014),\n",
    "    ('GinzburgEtAl14Semdial', 6, 2014),\n",
    "    ('PurverEtAl14NLGIS', 10, 2014),\n",
    "    ('HoughPurver14TTNLS', 14, 2014),\n",
    "    \n",
    "    ('DeKokEtal15ICMI', 5, 2015),\n",
    "    ('EshghiEtAl15IWCS', 94-29-31, 2015),\n",
    "    ('HoughSchlangen15IMC', 0, 2015),\n",
    "    ('GinzburgEtAl15AMC', 6, 2015),\n",
    "    ('LavelleEtAl15EPS', 0, 2015),\n",
    "    ('Hough15QMUL', 55-31, 2015),\n",
    "    ('DeKokEtAl15Semdial', 1, 2015),\n",
    "    ('HoughEtAl15DISS', 5, 2015),\n",
    "    ('HoughEtAl15Semdial', 4, 2015),\n",
    "    ('HoughSchlangen15Interspeech', 8 + 3, 2015),\n",
    "    ('KousidisEtAl15Laughter', 2, 2015),\n",
    "    ('HoughEtAl15IWCS', 12, 2015),\n",
    "    \n",
    "    ('DeKokEtAl16ICMIWorkshop', 0, 2016),\n",
    "    ('KempsonEtAl16', 0, 2016),\n",
    "    ('GinzburgEtAl16SuB', 3, 2016),\n",
    "    ('HoughSchlangen16SigDIal', 4, 2016),\n",
    "    ('HoughSchlangen16Semdial', 0, 2016),\n",
    "    ('HealeyEtAl16BBS', 0, 2016),\n",
    "    ('HowesEtAl16RAPID', 0, 2016),\n",
    "    ('ZarriessEtAl16Pentoref', 8, 2016),\n",
    "    ('HoughEtAl16DUEL', 6, 2016),\n",
    "    ('MalaliaEtAl16', 0, 2016),\n",
    "    \n",
    "    ('DeKokEtAl17IVA', 2, 2017),\n",
    "    ('HoughSchlangen17HRI', 8, 2017),\n",
    "    ('HowesEtAl17Schizo', 0, 2017),\n",
    "    ('HanEtAl17IJCNLP', 0, 2017),\n",
    "    ('HoughEtAl17GLU', 0, 2017),\n",
    "    ('MaierEtAl17Interspeech', 2, 2017),\n",
    "    ('HowesEtAl17CogSci', 1, 2017),\n",
    "    ('HoughSchlangen17HRI', 1, 2017),\n",
    "    ('HoughSchlangen17EACL', 1, 2017),\n",
    "    ('HoughPurver17Type', 34-31, 2017),\n",
    "    ('BaumannEtAl17ASR', 8, 2017),\n",
    "    \n",
    "    ('HoughEtAl18DS2', 0, 2018),\n",
    "    ('PurverEtAl18Comms', 1, 2018)    \n",
    "    \n",
    "]"
   ]
  },
  {
   "cell_type": "code",
   "execution_count": 32,
   "metadata": {
    "collapsed": true
   },
   "outputs": [],
   "source": [
    "def h_score(citations):\n",
    "    h = 0\n",
    "    for i, s in enumerate(sorted(citations, reverse=True)):\n",
    "        if s < (i + 1):\n",
    "            break\n",
    "        h = i +1\n",
    "            \n",
    "    return h\n",
    "\n",
    "def i_score(citations):\n",
    "    return len(filter( lambda x: x>=10, citations))"
   ]
  },
  {
   "cell_type": "code",
   "execution_count": 33,
   "metadata": {
    "collapsed": false
   },
   "outputs": [
    {
     "name": "stdout",
     "output_type": "stream",
     "text": [
      "369 55\n",
      "11\n",
      "13\n"
     ]
    }
   ],
   "source": [
    "\n",
    "papers = []\n",
    "years = defaultdict(list)\n",
    "for x, y, z in citations:\n",
    "    papers.append(y)\n",
    "    years[z].append(y)\n",
    "print sum(papers), len(papers)\n",
    "print h_score(papers)\n",
    "print i_score(papers)"
   ]
  },
  {
   "cell_type": "code",
   "execution_count": 78,
   "metadata": {
    "collapsed": false
   },
   "outputs": [
    {
     "name": "stdout",
     "output_type": "stream",
     "text": [
      "1\tPurverEtAl11I\t54\t2011\n",
      "2\tEshghiEtAl15I\t34\t2015\n",
      "3\tHough15QMUL\t24\t2015\n",
      "4\tEshghiEtAl12C\t22\t2012\n",
      "5\tEshghiEtAl11D\t21\t2011\n",
      "6\tEshghiEtAl13C\t16\t2013\n",
      "7\tHoughPurver14\t15\t2014\n",
      "8\tHoughPurver14\t14\t2014\n",
      "9\tHoughPurver12\t12\t2012\n",
      "10\tHoughEtAl15IW\t12\t2015\n",
      "11\tHoughSchlange\t11\t2015\n",
      "12\tHough11RANLP\t10\t2011\n",
      "13\tPurverEtAl14N\t10\t2014\n",
      "14\tHoughPurver13\t8\t2013\n",
      "15\tZarriessEtAl1\t8\t2016\n",
      "16\tHoughSchlange\t8\t2017\n",
      "17\tBaumannEtAl17\t8\t2017\n",
      "18\tEshghiEtAl12C\t6\t2012\n",
      "19\tEshghiEtAl13I\t6\t2013\n",
      "20\tHowesEtAl14Se\t6\t2014\n",
      "21\tGinzburgEtAl1\t6\t2014\n",
      "22\tGinzburgEtAl1\t6\t2015\n",
      "23\tHoughEtAl16DU\t6\t2016\n",
      "24\tHowesEtAl13BB\t5\t2013\n",
      "25\tDeKokEtAl14Se\t5\t2014\n",
      "26\tDeKokEtal15IC\t5\t2015\n",
      "27\tHoughEtAl15DI\t5\t2015\n",
      "28\tHoughEtAl15Se\t4\t2015\n",
      "29\tHoughSchlange\t4\t2016\n",
      "30\tGinzburgEtAl1\t3\t2016\n",
      "31\tHoughPurver17\t3\t2017\n",
      "32\tKousidisEtAl1\t2\t2015\n",
      "33\tDeKokEtAl17IV\t2\t2017\n",
      "34\tMaierEtAl17In\t2\t2017\n",
      "35\tHoughPurver14\t1\t2014\n",
      "36\tDeKokEtAl15Se\t1\t2015\n",
      "37\tHowesEtAl17Co\t1\t2017\n",
      "38\tHoughSchlange\t1\t2017\n",
      "39\tHoughSchlange\t1\t2017\n",
      "40\tPurverEtAl18C\t1\t2018\n",
      "41\tKempsonEtal11\t0\t2011\n",
      "42\tEshghiEtAl12C\t0\t2012\n",
      "43\tPurverEtAL13L\t0\t2013\n",
      "44\tHoughSchlange\t0\t2015\n",
      "45\tLavelleEtAl15\t0\t2015\n",
      "46\tDeKokEtAl16IC\t0\t2016\n",
      "47\tKempsonEtAl16\t0\t2016\n",
      "48\tHoughSchlange\t0\t2016\n",
      "49\tHealeyEtAl16B\t0\t2016\n",
      "50\tHowesEtAl16RA\t0\t2016\n",
      "51\tMalaliaEtAl16\t0\t2016\n",
      "52\tHowesEtAl17Sc\t0\t2017\n",
      "53\tHanEtAl17IJCN\t0\t2017\n",
      "54\tHoughEtAl17GL\t0\t2017\n",
      "55\tHoughEtAl18DS\t0\t2018\n"
     ]
    }
   ],
   "source": [
    "for i, s in enumerate(sorted(citations, key=lambda x:x[1], reverse=True)):\n",
    "    x, y, z = s\n",
    "    print \"\\t\".join([str(i+1), x[:13], str(y), str(z)])"
   ]
  },
  {
   "cell_type": "code",
   "execution_count": 51,
   "metadata": {
    "collapsed": false
   },
   "outputs": [
    {
     "name": "stdout",
     "output_type": "stream",
     "text": [
      "2011\t[10, 21, 54, 0]\t4\t85\t21.25\n",
      "2012\t[0, 22, 6, 12]\t4\t40\t10.0\n",
      "2013\t[16, 8, 0, 6, 5]\t5\t35\t7.0\n",
      "2014\t[15, 6, 5, 1, 6, 10, 14]\t7\t57\t8.14285714286\n",
      "2015\t[5, 34, 0, 6, 0, 24, 1, 5, 4, 11, 2, 12]\t12\t104\t8.66666666667\n",
      "2016\t[0, 0, 3, 4, 0, 0, 0, 8, 6, 0]\t10\t21\t2.1\n",
      "2017\t[2, 8, 0, 0, 0, 2, 1, 1, 1, 3, 8]\t11\t26\t2.36363636364\n",
      "2018\t[0, 1]\t2\t1\t0.5\n"
     ]
    }
   ],
   "source": [
    "for x, y in sorted(years.items()):\n",
    "    print \"\\t\".join([str(s) for s in [x, y, len(y), sum(y), float(sum(y)/len(y))]])"
   ]
  },
  {
   "cell_type": "code",
   "execution_count": null,
   "metadata": {
    "collapsed": true
   },
   "outputs": [],
   "source": []
  }
 ],
 "metadata": {
  "kernelspec": {
   "display_name": "Python 2",
   "language": "python",
   "name": "python2"
  },
  "language_info": {
   "codemirror_mode": {
    "name": "ipython",
    "version": 2
   },
   "file_extension": ".py",
   "mimetype": "text/x-python",
   "name": "python",
   "nbconvert_exporter": "python",
   "pygments_lexer": "ipython2",
   "version": "2.7.12"
  }
 },
 "nbformat": 4,
 "nbformat_minor": 1
}
